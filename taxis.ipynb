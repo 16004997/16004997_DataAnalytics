{
 "cells": [
  {
   "cell_type": "code",
   "execution_count": 15,
   "id": "1f076f73",
   "metadata": {
    "scrolled": true
   },
   "outputs": [
    {
     "data": {
      "text/html": [
       "<div>\n",
       "<style scoped>\n",
       "    .dataframe tbody tr th:only-of-type {\n",
       "        vertical-align: middle;\n",
       "    }\n",
       "\n",
       "    .dataframe tbody tr th {\n",
       "        vertical-align: top;\n",
       "    }\n",
       "\n",
       "    .dataframe thead th {\n",
       "        text-align: right;\n",
       "    }\n",
       "</style>\n",
       "<table border=\"1\" class=\"dataframe\">\n",
       "  <thead>\n",
       "    <tr style=\"text-align: right;\">\n",
       "      <th></th>\n",
       "      <th>day</th>\n",
       "      <th>year</th>\n",
       "      <th>mo</th>\n",
       "      <th>da</th>\n",
       "      <th>pickup_date</th>\n",
       "      <th>temp</th>\n",
       "      <th>dewp</th>\n",
       "      <th>slp</th>\n",
       "      <th>visib</th>\n",
       "      <th>wdsp</th>\n",
       "      <th>mxpsd</th>\n",
       "      <th>gust</th>\n",
       "      <th>max</th>\n",
       "      <th>min</th>\n",
       "      <th>prcp</th>\n",
       "      <th>sndp</th>\n",
       "      <th>fog</th>\n",
       "      <th>NUM_TRIPS</th>\n",
       "    </tr>\n",
       "  </thead>\n",
       "  <tbody>\n",
       "    <tr>\n",
       "      <th>0</th>\n",
       "      <td>4</td>\n",
       "      <td>2009</td>\n",
       "      <td>1</td>\n",
       "      <td>1</td>\n",
       "      <td>2009-01-01</td>\n",
       "      <td>12.2</td>\n",
       "      <td>2.8</td>\n",
       "      <td>1012.6</td>\n",
       "      <td>11.4</td>\n",
       "      <td>18.5</td>\n",
       "      <td>26.0</td>\n",
       "      <td>33.0</td>\n",
       "      <td>21.2</td>\n",
       "      <td>5.0</td>\n",
       "      <td>0.55</td>\n",
       "      <td>5.1</td>\n",
       "      <td>0</td>\n",
       "      <td>327625</td>\n",
       "    </tr>\n",
       "    <tr>\n",
       "      <th>1</th>\n",
       "      <td>5</td>\n",
       "      <td>2009</td>\n",
       "      <td>1</td>\n",
       "      <td>2</td>\n",
       "      <td>2009-01-02</td>\n",
       "      <td>20.0</td>\n",
       "      <td>12.0</td>\n",
       "      <td>1015.5</td>\n",
       "      <td>13.7</td>\n",
       "      <td>7.4</td>\n",
       "      <td>20.0</td>\n",
       "      <td>21.0</td>\n",
       "      <td>39.9</td>\n",
       "      <td>5.0</td>\n",
       "      <td>0.00</td>\n",
       "      <td>3.1</td>\n",
       "      <td>0</td>\n",
       "      <td>376708</td>\n",
       "    </tr>\n",
       "    <tr>\n",
       "      <th>2</th>\n",
       "      <td>6</td>\n",
       "      <td>2009</td>\n",
       "      <td>1</td>\n",
       "      <td>3</td>\n",
       "      <td>2009-01-03</td>\n",
       "      <td>30.0</td>\n",
       "      <td>20.2</td>\n",
       "      <td>1007.1</td>\n",
       "      <td>11.7</td>\n",
       "      <td>10.8</td>\n",
       "      <td>18.1</td>\n",
       "      <td>24.1</td>\n",
       "      <td>35.1</td>\n",
       "      <td>26.6</td>\n",
       "      <td>0.00</td>\n",
       "      <td>2.0</td>\n",
       "      <td>0</td>\n",
       "      <td>432710</td>\n",
       "    </tr>\n",
       "    <tr>\n",
       "      <th>3</th>\n",
       "      <td>7</td>\n",
       "      <td>2009</td>\n",
       "      <td>1</td>\n",
       "      <td>4</td>\n",
       "      <td>2009-01-04</td>\n",
       "      <td>26.1</td>\n",
       "      <td>13.7</td>\n",
       "      <td>1012.4</td>\n",
       "      <td>15.0</td>\n",
       "      <td>11.5</td>\n",
       "      <td>17.1</td>\n",
       "      <td>24.1</td>\n",
       "      <td>35.6</td>\n",
       "      <td>21.2</td>\n",
       "      <td>0.00</td>\n",
       "      <td>2.0</td>\n",
       "      <td>0</td>\n",
       "      <td>367525</td>\n",
       "    </tr>\n",
       "    <tr>\n",
       "      <th>4</th>\n",
       "      <td>1</td>\n",
       "      <td>2009</td>\n",
       "      <td>1</td>\n",
       "      <td>5</td>\n",
       "      <td>2009-01-05</td>\n",
       "      <td>31.2</td>\n",
       "      <td>24.7</td>\n",
       "      <td>1012.2</td>\n",
       "      <td>13.1</td>\n",
       "      <td>3.9</td>\n",
       "      <td>8.9</td>\n",
       "      <td>999.9</td>\n",
       "      <td>41.0</td>\n",
       "      <td>19.4</td>\n",
       "      <td>0.00</td>\n",
       "      <td>1.2</td>\n",
       "      <td>0</td>\n",
       "      <td>370901</td>\n",
       "    </tr>\n",
       "  </tbody>\n",
       "</table>\n",
       "</div>"
      ],
      "text/plain": [
       "   day  year  mo  da pickup_date  temp  dewp     slp  visib  wdsp  mxpsd  \\\n",
       "0    4  2009   1   1  2009-01-01  12.2   2.8  1012.6   11.4  18.5   26.0   \n",
       "1    5  2009   1   2  2009-01-02  20.0  12.0  1015.5   13.7   7.4   20.0   \n",
       "2    6  2009   1   3  2009-01-03  30.0  20.2  1007.1   11.7  10.8   18.1   \n",
       "3    7  2009   1   4  2009-01-04  26.1  13.7  1012.4   15.0  11.5   17.1   \n",
       "4    1  2009   1   5  2009-01-05  31.2  24.7  1012.2   13.1   3.9    8.9   \n",
       "\n",
       "    gust   max   min  prcp  sndp  fog  NUM_TRIPS  \n",
       "0   33.0  21.2   5.0  0.55   5.1    0     327625  \n",
       "1   21.0  39.9   5.0  0.00   3.1    0     376708  \n",
       "2   24.1  35.1  26.6  0.00   2.0    0     432710  \n",
       "3   24.1  35.6  21.2  0.00   2.0    0     367525  \n",
       "4  999.9  41.0  19.4  0.00   1.2    0     370901  "
      ]
     },
     "execution_count": 15,
     "metadata": {},
     "output_type": "execute_result"
    }
   ],
   "source": [
    "#Getting the data into a pandas DataFrame\n",
    "import pandas as pd\n",
    "\n",
    "taxi_trips = pd.read_csv('https://raw.githubusercontent.com/1122131uhi/1122131_DataAnalytics/master/results-20200720-204551.csv')\n",
    "\n",
    "#show the head\n",
    "taxi_trips.head()"
   ]
  },
  {
   "cell_type": "code",
   "execution_count": 23,
   "id": "20c0179a",
   "metadata": {},
   "outputs": [
    {
     "data": {
      "image/png": "[encoded data removed]",
      "text/plain": [
       "<Figure size 720x720 with 1 Axes>"
      ]
     },
     "metadata": {
      "needs_background": "light"
     },
     "output_type": "display_data"
    }
   ],
   "source": [
    "import matplotlib.pyplot as plt\n",
    "\n",
    "#replace all values over 99 in prcp with 0\n",
    "taxi_trips.loc[taxi_trips['prcp'] > 99, 'prcp'] = 0\n",
    "\n",
    "\n",
    "taxi_trips.plot(kind='hist', y='prcp', alpha=0.6, figsize=(10, 10))\n",
    "plt.show()\n",
    "\n",
    "#Histogram below shows most of the data entries are zero which may indicate there was very little precipitation recorded."
   ]
  },
  {
   "cell_type": "code",
   "execution_count": 16,
   "id": "db60a441",
   "metadata": {
    "scrolled": false
   },
   "outputs": [
    {
     "data": {
      "image/png": "[encoded data removed]",
      "text/plain": [
       "<Figure size 720x720 with 1 Axes>"
      ]
     },
     "metadata": {
      "needs_background": "light"
     },
     "output_type": "display_data"
    }
   ],
   "source": [
    "taxi_trips.plot(kind='scatter', x='NUM_TRIPS', y='prcp', alpha=0.6, figsize=(10, 10))\n",
    "plt.show()\n",
    "\n",
    "#Scatterplot below shows that, of the days where precipitation was recorded, the majority of them had a higher amount of taxi trips. "
   ]
  },
  {
   "cell_type": "code",
   "execution_count": 2,
   "id": "c670f6db",
   "metadata": {},
   "outputs": [
    {
     "ename": "NameError",
     "evalue": "name 'taxi_trips' is not defined",
     "output_type": "error",
     "traceback": [
      "\u001b[1;31m---------------------------------------------------------------------------\u001b[0m",
      "\u001b[1;31mNameError\u001b[0m                                 Traceback (most recent call last)",
      "\u001b[1;32m<ipython-input-2-76ae46c1606c>\u001b[0m in \u001b[0;36m<module>\u001b[1;34m\u001b[0m\n\u001b[0;32m      1\u001b[0m \u001b[1;31m#A note about looking for a linear correlation for days of the week...\u001b[0m\u001b[1;33m\u001b[0m\u001b[1;33m\u001b[0m\u001b[1;33m\u001b[0m\u001b[0m\n\u001b[1;32m----> 2\u001b[1;33m \u001b[0mtaxi_trips\u001b[0m\u001b[1;33m.\u001b[0m\u001b[0mplot\u001b[0m\u001b[1;33m(\u001b[0m\u001b[0mkind\u001b[0m\u001b[1;33m=\u001b[0m\u001b[1;34m'scatter'\u001b[0m\u001b[1;33m,\u001b[0m \u001b[0mx\u001b[0m\u001b[1;33m=\u001b[0m\u001b[1;34m'NUM_TRIPS'\u001b[0m\u001b[1;33m,\u001b[0m \u001b[0my\u001b[0m\u001b[1;33m=\u001b[0m\u001b[1;34m'day'\u001b[0m\u001b[1;33m,\u001b[0m  \u001b[0malpha\u001b[0m\u001b[1;33m=\u001b[0m\u001b[1;36m0.6\u001b[0m\u001b[1;33m,\u001b[0m \u001b[0mfigsize\u001b[0m\u001b[1;33m=\u001b[0m\u001b[1;33m(\u001b[0m\u001b[1;36m10\u001b[0m\u001b[1;33m,\u001b[0m \u001b[1;36m10\u001b[0m\u001b[1;33m)\u001b[0m\u001b[1;33m)\u001b[0m\u001b[1;33m\u001b[0m\u001b[1;33m\u001b[0m\u001b[0m\n\u001b[0m\u001b[0;32m      3\u001b[0m \u001b[0mplt\u001b[0m\u001b[1;33m.\u001b[0m\u001b[0mshow\u001b[0m\u001b[1;33m(\u001b[0m\u001b[1;33m)\u001b[0m\u001b[1;33m\u001b[0m\u001b[1;33m\u001b[0m\u001b[0m\n\u001b[0;32m      4\u001b[0m \u001b[1;33m\u001b[0m\u001b[0m\n\u001b[0;32m      5\u001b[0m \u001b[1;31m#Regarding this data it makes no sense to look for a linear correlation because this data is not numerical, it is categorical.\u001b[0m\u001b[1;33m\u001b[0m\u001b[1;33m\u001b[0m\u001b[1;33m\u001b[0m\u001b[0m\n",
      "\u001b[1;31mNameError\u001b[0m: name 'taxi_trips' is not defined"
     ]
    }
   ],
   "source": [
    "\n",
    "#A note about looking for a linear correlation for days of the week...\n",
    "taxi_trips.plot(kind='scatter', x='NUM_TRIPS', y='day', lpha=0.6, figsize=(10, 10))\n",
    "plt.show()\n",
    "\n",
    "#Regarding this data it makes no sense to look for a linear correlation because this data is not numerical, it is categorical.\n",
    "#So even if you did move Sunday to the start it is incorrect to say that it has a high linear correlation with NUM_TRIPS."
   ]
  },
  {
   "cell_type": "code",
   "execution_count": null,
   "id": "6dd53f18",
   "metadata": {},
   "outputs": [],
   "source": []
  }
 ],
 "metadata": {
  "kernelspec": {
   "display_name": "Python 3",
   "language": "python",
   "name": "python3"
  },
  "language_info": {
   "codemirror_mode": {
    "name": "ipython",
    "version": 3
   },
   "file_extension": ".py",
   "mimetype": "text/x-python",
   "name": "python",
   "nbconvert_exporter": "python",
   "pygments_lexer": "ipython3",
   "version": "3.9.1"
  }
 },
 "nbformat": 4,
 "nbformat_minor": 5
}
